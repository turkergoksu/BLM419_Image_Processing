{
 "cells": [
  {
   "cell_type": "code",
   "execution_count": 32,
   "metadata": {},
   "outputs": [],
   "source": [
    "import numpy as np\n",
    "\n",
    "class Perceptron(object):\n",
    "    \n",
    "    \n",
    "    def __init__(self, input_size, lr = 1, epochs = 10):\n",
    "        self.W = np.zeros(input_size + 1)\n",
    "        self.epochs = epochs\n",
    "        self.lr = lr\n",
    "        \n",
    "    \n",
    "    def activation_fn(self, x):\n",
    "        return 1 if x >= 0 else 0\n",
    "    \n",
    "    \n",
    "    def predict(self, x):\n",
    "        x = np.insert(x, 0, 1) # add \"1\" to first index\n",
    "        z = self.W.T.dot(x) # Transpose and dot product\n",
    "        a = self.activation_fn(z)\n",
    "        return a\n",
    "    \n",
    "    \n",
    "    def fit(self, X, d):\n",
    "        for _ in range(self.epochs):\n",
    "            for i in range(d.shape[0]):\n",
    "                y = self.predict(X[i])\n",
    "                e = d[i] - y\n",
    "                self.W = self.W + self.lr * e * np.insert(X[i], 0, 1)"
   ]
  },
  {
   "cell_type": "markdown",
   "metadata": {},
   "source": [
    "# 1. Perceptron class tanımınında varolan fonksiyonları kısaca tanıtınız."
   ]
  },
  {
   "cell_type": "markdown",
   "metadata": {},
   "source": [
    "#### init:\n",
    "init fonksiyonunda Perceptron sınıfındaki Weight(W) değişkenini Perceptron objesi oluşturulurken girilen input_size adlı int parametresinin bir fazlasını alarak sıfırlardan oluşan bir numpy dizisi oluşturulur.\n",
    "\n",
    "epochs ve lr parametreleri ise daha sonra fit işlemi yaparken yeni Weight değerlerini bulurken kullanacağımız parametrelerdir. \n",
    "\n",
    "epochs parametresi fit fonksiyonunda kaç iterasyon yapacağımızı belirler.\n",
    "\n",
    "lr ise öğrenme oranını atadığımız bir parametre.\n",
    "\n",
    "#### activation_fn:\n",
    "Aktivasyon fonksiyonu, girilen x parametresi eğer 0'dan büyük veya eşitse 1, değilse 0 döndüren bir fonksiyondur. Burada girilen x parametresi, fit fonksiyonuna verilen X feature'larını kullanarak elde edilen pre-aktivasyon değeri olan z değeridir.\n",
    "\n",
    "#### predict:\n",
    "predict fonksiyonunda fit fonksiyonunda girilen X değerlerini kullanarak bir a değeri döndürülür. Bu a değerini hesaplamak için öncelikle predict fonksiyonuna girilen x parametresine(liste tipinde) algoritma gereği 0. indisinden \"1\" değeri eklenir. Daha sonra pre-aktivasyon değeri olan z değişkenini hesaplamak için Perceptron sınıfının Weight(W) dizisine transpose(.T) uygulayarak parametre olarak girilen x değeriyle skaler çarpımını(dot product) alırız. En son, hesaplanan z değerini aktivasyon fonksiyonuna vererek buradan dönen değeri döndürürüz.\n",
    "\n",
    "#### fit:\n",
    "fit fonksiyonu Perceptron objesini girilen X ve d parametreleriyle beraber bir öğretme yaptığımız fonksiyondur. fit fonksiyonunda Perceptron sınıfında tanımlanan epochs değişkeni ve girilen d parametresinin uzunluğunun çarpımı kadar iterasyon yapar. \n",
    "\n",
    "Öncelikle girilen X parametresinin i indisinde bulunan diziyi predict fonksiyonuna göndererek y değerini bulur. Bu y değerini daha sonra \"e\" sapmasını bulmak için, istenen çıktı olan d dizisindeki i. indisten çıkarırız. En son Perceptron sınıfının W dizisindeki ağırlığı hesaplamak için öğrenme oranı olan \"lr\", \"e\" sapması ve ilk indisine \"1\" değeri eklenmiş X feature'ını alıp çarparak eski W değeriyle toplarız."
   ]
  },
  {
   "cell_type": "markdown",
   "metadata": {},
   "source": [
    "# 2. XOR için verileri değiştirip çalışmasınızı gözlemleyiniz."
   ]
  },
  {
   "cell_type": "code",
   "execution_count": 33,
   "metadata": {},
   "outputs": [
    {
     "name": "stdout",
     "output_type": "stream",
     "text": [
      "[0. 0. 0.]\n",
      "[ 0. -1.  0.]\n"
     ]
    }
   ],
   "source": [
    "X = np.array([\n",
    "        [0, 0],\n",
    "        [0, 1],\n",
    "        [1, 0],\n",
    "        [1, 1]\n",
    "    ])\n",
    "d = np.array([0, 1, 1, 0])\n",
    "perceptron = Perceptron(input_size=2)\n",
    "print(perceptron.W)\n",
    "perceptron.fit(X, d)\n",
    "print(perceptron.W)"
   ]
  },
  {
   "cell_type": "markdown",
   "metadata": {},
   "source": [
    "# 3. Bu class ile dersimize kayıtlı 40 öğrenci için imza tanıması yapılırsa X ve d değerleri ne olur, predict fonksiyonu nasıl kullanılır açıklayınız."
   ]
  },
  {
   "cell_type": "markdown",
   "metadata": {},
   "source": [
    "Ön edit: Öğrencilerin imzasının RGB şeklinde bulunan 3 boyutlu diziden 0 ve 1'lerden oluşan 2 boyutlu bir diziye dönüştürüldüğünü kabul ettim.\n",
    "\n",
    "Örneğin öğrencilerin imzası 0 ve 1'lerden oluşan 200x200 matrisinde bulunan bir imza ise X değeri 40x200x200 elemanlı bir diziden oluşur. d değeri ise 40 öğrenci için 40x40'lık bir dizi olur. Bu d dizisi 0'lardan oluşan bir matris olacak fakat sadece o öğrencinin bulunduğu satır ve sütunda 1 değeri olacak. Örneğin:\n",
    "\n",
    "                 Ayşe | Ahmet | Mehmet | ...\n",
    "Ayşenin  imzası    1  |   0   |   0    | ...\n",
    "Ahmetin  imzası    0  |   1   |   0    | ...\n",
    "Mehmetin imzası    0  |   0   |   1    | ...\n",
    ".\n",
    ".\n",
    ".\n",
    "\n",
    "Girilen bu değerlerle single-layer perceptron'un bu problemi çözmek için yetersiz kaldığını düşünüyorum. Muhtemelen multi-layer perceptron bu problem için daha uygun olabilir."
   ]
  },
  {
   "cell_type": "markdown",
   "metadata": {},
   "source": [
    "# 4. Bu modelin hatası nasıl elde edilir, kendi çözümünüzü/yorumunuzu yazınız."
   ]
  },
  {
   "cell_type": "markdown",
   "metadata": {},
   "source": [
    "Single-layer perceptron'un maalesef sadece lineer olarak ayrılabilen(linearly seperable) problemleri çözmesidir. Eğer elimizdeki iki sınıf lineer olarak ayrılabilir ise demekki bu iki sınıf arasında tek bir lineer çizgi çizerek sınıflandırabiliriz. AND ve OR kapılarında bunu yapabiliyorken örneğin XOR kapısında bunu yapamıyoruz. XOR kapısını sınıflandırmak için iki ayrı çizgi çizmemiz gerekiyor. Bu yüzden XOR kapısı gibi lineer olarak ayrılamayan problemleri multi-layer perceptron ile çözebiliriz."
   ]
  },
  {
   "cell_type": "code",
   "execution_count": 34,
   "metadata": {},
   "outputs": [
    {
     "name": "stdout",
     "output_type": "stream",
     "text": [
      "[0. 0. 0.]\n",
      "[-3.  2.  1.]\n"
     ]
    }
   ],
   "source": [
    "X = np.array([\n",
    "        [0, 0],\n",
    "        [0, 1],\n",
    "        [1, 0],\n",
    "        [1, 1]\n",
    "    ])\n",
    "d = np.array([0, 0, 0, 1])\n",
    "perceptron = Perceptron(input_size=2)\n",
    "print(perceptron.W)\n",
    "perceptron.fit(X, d)\n",
    "print(perceptron.W)"
   ]
  },
  {
   "cell_type": "code",
   "execution_count": 35,
   "metadata": {},
   "outputs": [
    {
     "data": {
      "text/plain": [
       "1"
      ]
     },
     "execution_count": 35,
     "metadata": {},
     "output_type": "execute_result"
    }
   ],
   "source": [
    "mp = Perceptron(5)\n",
    "x = np.asarray([1,2,3,4,5])\n",
    "mp.predict(x)"
   ]
  },
  {
   "cell_type": "code",
   "execution_count": 36,
   "metadata": {},
   "outputs": [
    {
     "data": {
      "text/plain": [
       "0"
      ]
     },
     "execution_count": 36,
     "metadata": {},
     "output_type": "execute_result"
    }
   ],
   "source": [
    "mp.activation_fn(-10)"
   ]
  },
  {
   "cell_type": "code",
   "execution_count": 37,
   "metadata": {},
   "outputs": [
    {
     "data": {
      "text/plain": [
       "array([0., 0., 0., 0., 0., 0.])"
      ]
     },
     "execution_count": 37,
     "metadata": {},
     "output_type": "execute_result"
    }
   ],
   "source": [
    "mp.W"
   ]
  },
  {
   "cell_type": "code",
   "execution_count": null,
   "metadata": {},
   "outputs": [],
   "source": []
  }
 ],
 "metadata": {
  "kernelspec": {
   "display_name": "Python 3",
   "language": "python",
   "name": "python3"
  },
  "language_info": {
   "codemirror_mode": {
    "name": "ipython",
    "version": 3
   },
   "file_extension": ".py",
   "mimetype": "text/x-python",
   "name": "python",
   "nbconvert_exporter": "python",
   "pygments_lexer": "ipython3",
   "version": "3.8.5"
  }
 },
 "nbformat": 4,
 "nbformat_minor": 4
}
